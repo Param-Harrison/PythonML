{
 "cells": [
  {
   "cell_type": "markdown",
   "metadata": {},
   "source": [
    "# Practical Machine Learning Tutorial with Python Introduction"
   ]
  },
  {
   "cell_type": "markdown",
   "metadata": {},
   "source": [
    "https://pythonprogramming.net/machine-learning-tutorial-python-introduction/\n",
    "This Jupyter Notebook contains student notes while following the course in Python 2.7 (the author is using Python 3)."
   ]
  },
  {
   "cell_type": "markdown",
   "metadata": {},
   "source": [
    "## Lesson 2: Regression - Intro and Data"
   ]
  },
  {
   "cell_type": "code",
   "execution_count": 154,
   "metadata": {
    "collapsed": false,
    "scrolled": true
   },
   "outputs": [],
   "source": [
    "import pandas as pd\n",
    "import quandl"
   ]
  },
  {
   "cell_type": "code",
   "execution_count": 155,
   "metadata": {
    "collapsed": false,
    "scrolled": true
   },
   "outputs": [
    {
     "name": "stdout",
     "output_type": "stream",
     "text": [
      "              Open    High     Low   Close      Volume  Ex-Dividend  \\\n",
      "Date                                                                  \n",
      "2004-08-19  100.00  104.06   95.96  100.34  44659000.0          0.0   \n",
      "2004-08-20  101.01  109.08  100.50  108.31  22834300.0          0.0   \n",
      "2004-08-23  110.75  113.48  109.05  109.40  18256100.0          0.0   \n",
      "2004-08-24  111.24  111.60  103.57  104.87  15247300.0          0.0   \n",
      "2004-08-25  104.96  108.00  103.88  106.00   9188600.0          0.0   \n",
      "\n",
      "            Split Ratio  Adj. Open  Adj. High  Adj. Low  Adj. Close  \\\n",
      "Date                                                                  \n",
      "2004-08-19          1.0     50.000      52.03    47.980      50.170   \n",
      "2004-08-20          1.0     50.505      54.54    50.250      54.155   \n",
      "2004-08-23          1.0     55.375      56.74    54.525      54.700   \n",
      "2004-08-24          1.0     55.620      55.80    51.785      52.435   \n",
      "2004-08-25          1.0     52.480      54.00    51.940      53.000   \n",
      "\n",
      "            Adj. Volume  \n",
      "Date                     \n",
      "2004-08-19   44659000.0  \n",
      "2004-08-20   22834300.0  \n",
      "2004-08-23   18256100.0  \n",
      "2004-08-24   15247300.0  \n",
      "2004-08-25    9188600.0  \n"
     ]
    }
   ],
   "source": [
    "df_orig = quandl.get('WIKI/GOOGL')\n",
    "print df_orig.head()"
   ]
  },
  {
   "cell_type": "code",
   "execution_count": 172,
   "metadata": {
    "collapsed": false,
    "scrolled": true
   },
   "outputs": [
    {
     "name": "stdout",
     "output_type": "stream",
     "text": [
      "            Adj. Close    HL_PCT  PCT_change  Adj. Volume\n",
      "Date                                                     \n",
      "2004-08-19      50.170  8.441017    0.340000   44659000.0\n",
      "2004-08-20      54.155  8.537313    7.227007   22834300.0\n",
      "2004-08-23      54.700  4.062357   -1.218962   18256100.0\n",
      "2004-08-24      52.435  7.753210   -5.726357   15247300.0\n",
      "2004-08-25      53.000  3.966115    0.990854    9188600.0\n"
     ]
    }
   ],
   "source": [
    "# create a new df on which we will do all our modifications\n",
    "# this allows us to keep df_orig in memory so we can limit the amount of\n",
    "# queries on Quandl\n",
    "df = df_orig.copy(deep=True)\n",
    "\n",
    "# create 2 new columns: High/Low Percent, and Percent_change\n",
    "df['HL_PCT'] = (df['Adj. High'] - df['Adj. Low']) / df['Adj. Low'] * 100\n",
    "df['PCT_change'] = (df['Adj. Close'] - df['Adj. Open']) / df['Adj. Open'] * 100\n",
    "\n",
    "# we are only interested in keeping these 4 columns:\n",
    "df = df[['Adj. Close','HL_PCT','PCT_change','Adj. Volume']]\n",
    "\n",
    "print df.head()"
   ]
  },
  {
   "cell_type": "markdown",
   "metadata": {},
   "source": [
    "## Lesson 3: Regression - Features and Labels"
   ]
  },
  {
   "cell_type": "code",
   "execution_count": 173,
   "metadata": {
    "collapsed": true,
    "scrolled": true
   },
   "outputs": [],
   "source": [
    "import quandl\n",
    "import math\n",
    "import numpy as np\n",
    "import pandas as pd\n",
    "from sklearn import preprocessing, cross_validation, svm\n",
    "from sklearn.linear_model import LinearRegression"
   ]
  },
  {
   "cell_type": "code",
   "execution_count": 174,
   "metadata": {
    "collapsed": false,
    "scrolled": true
   },
   "outputs": [
    {
     "name": "stdout",
     "output_type": "stream",
     "text": [
      "            Adj. Close    HL_PCT  PCT_change  Adj. Volume\n",
      "Date                                                     \n",
      "2004-08-19      50.170  8.441017    0.340000   44659000.0\n",
      "2004-08-20      54.155  8.537313    7.227007   22834300.0\n",
      "2004-08-23      54.700  4.062357   -1.218962   18256100.0\n",
      "2004-08-24      52.435  7.753210   -5.726357   15247300.0\n",
      "2004-08-25      53.000  3.966115    0.990854    9188600.0\n",
      "            Adj. Close    HL_PCT  PCT_change  Adj. Volume\n",
      "Date                                                     \n",
      "2016-07-05      704.89  1.285884   -0.017021    1399205.0\n",
      "2016-07-06      708.97  2.002861    1.304584    1428996.0\n",
      "2016-07-07      707.26  1.355845   -0.401346    1053642.0\n",
      "2016-07-08      717.78  1.382554    1.016100    1463884.0\n",
      "2016-07-11      727.20  1.399971    1.081427    1430124.0\n",
      "            Adj. Close    HL_PCT  PCT_change  Adj. Volume   label\n",
      "Date                                                             \n",
      "2004-08-19      50.170  8.441017    0.340000   44659000.0  66.290\n",
      "2004-08-20      54.155  8.537313    7.227007   22834300.0  67.530\n",
      "2004-08-23      54.700  4.062357   -1.218962   18256100.0  69.185\n",
      "2004-08-24      52.435  7.753210   -5.726357   15247300.0  68.540\n",
      "2004-08-25      53.000  3.966115    0.990854    9188600.0  69.425\n",
      "            Adj. Close    HL_PCT  PCT_change  Adj. Volume  label\n",
      "Date                                                            \n",
      "2016-07-05      704.89  1.285884   -0.017021    1399205.0    NaN\n",
      "2016-07-06      708.97  2.002861    1.304584    1428996.0    NaN\n",
      "2016-07-07      707.26  1.355845   -0.401346    1053642.0    NaN\n",
      "2016-07-08      717.78  1.382554    1.016100    1463884.0    NaN\n",
      "2016-07-11      727.20  1.399971    1.081427    1430124.0    NaN\n"
     ]
    }
   ],
   "source": [
    "forecast_col = 'Adj. Close'\n",
    "df.fillna(value=-99999, inplace=True)\n",
    "\n",
    "print df.head()\n",
    "print df.tail()\n",
    "\n",
    "# math.ceil rounds up.  At runtime forecast_out should be 30.0.\n",
    "# that means we'll predict 30 days into the future.\n",
    "# So the second line (shift) ensures that the label at row 1 \n",
    "# will have the value of Adj.Close at row 31, and so on.\n",
    "forecast_out = int(math.ceil(0.01 * len(df)))       \n",
    "df['label'] = df2[forecast_col].shift(-forecast_out) \n",
    "\n",
    "print df.head()\n",
    "print df.tail()"
   ]
  },
  {
   "cell_type": "markdown",
   "metadata": {},
   "source": [
    "## Lesson 4: Training and testing"
   ]
  },
  {
   "cell_type": "code",
   "execution_count": 175,
   "metadata": {
    "collapsed": false,
    "scrolled": false
   },
   "outputs": [],
   "source": [
    "# define features\n",
    "X = np.array(df.drop(['label'], 1))\n",
    "X = preprocessing.scale(X)\n",
    "X = X[:-forecast_out]  # drop all rows for which we don't have known forecasts\n",
    "df.dropna(inplace=True)\n",
    "\n",
    "# define labels\n",
    "y = np.array(df['label'])\n",
    "\n",
    "# set up crossvalidation\n",
    "X_train, X_test, y_train, y_test = cross_validation.train_test_split(X, y, test_size=0.2)"
   ]
  },
  {
   "cell_type": "code",
   "execution_count": 176,
   "metadata": {
    "collapsed": false,
    "scrolled": true
   },
   "outputs": [
    {
     "name": "stdout",
     "output_type": "stream",
     "text": [
      "0.799987507512\n"
     ]
    }
   ],
   "source": [
    "# Train with Support Vector Regression (SVR)\n",
    "clf = svm.SVR()\n",
    "clf.fit(X_train, y_train)\n",
    "\n",
    "# Test how well we trained\n",
    "confidence = clf.score(X_test, y_test)\n",
    "print confidence\n"
   ]
  },
  {
   "cell_type": "code",
   "execution_count": 177,
   "metadata": {
    "collapsed": false
   },
   "outputs": [
    {
     "name": "stdout",
     "output_type": "stream",
     "text": [
      "0.962395427799\n"
     ]
    }
   ],
   "source": [
    "# Train with Linear Regression\n",
    "clf = LinearRegression()\n",
    "clf.fit(X_train, y_train)\n",
    "\n",
    "# Test how well we trained\n",
    "confidence = clf.score(X_test, y_test)\n",
    "print confidence"
   ]
  },
  {
   "cell_type": "code",
   "execution_count": null,
   "metadata": {
    "collapsed": true
   },
   "outputs": [],
   "source": []
  }
 ],
 "metadata": {
  "kernelspec": {
   "display_name": "Python 2",
   "language": "python",
   "name": "python2"
  },
  "language_info": {
   "codemirror_mode": {
    "name": "ipython",
    "version": 2
   },
   "file_extension": ".py",
   "mimetype": "text/x-python",
   "name": "python",
   "nbconvert_exporter": "python",
   "pygments_lexer": "ipython2",
   "version": "2.7.11"
  }
 },
 "nbformat": 4,
 "nbformat_minor": 0
}
