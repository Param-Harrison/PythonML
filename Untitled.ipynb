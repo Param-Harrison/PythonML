{
 "cells": [
  {
   "cell_type": "markdown",
   "metadata": {},
   "source": [
    "# Practical Machine Learning Tutorial with Python Introduction"
   ]
  },
  {
   "cell_type": "markdown",
   "metadata": {},
   "source": [
    "https://pythonprogramming.net/machine-learning-tutorial-python-introduction/\n",
    "This Jupyter Notebook contains student notes while following the course in Python 2.7 (the author is using Python 3)."
   ]
  },
  {
   "cell_type": "markdown",
   "metadata": {},
   "source": [
    "## Lesson 2: Regression - Intro and Data"
   ]
  },
  {
   "cell_type": "code",
   "execution_count": 1,
   "metadata": {
    "collapsed": false
   },
   "outputs": [],
   "source": [
    "import pandas as pd\n",
    "import quandl"
   ]
  },
  {
   "cell_type": "code",
   "execution_count": 2,
   "metadata": {
    "collapsed": false,
    "scrolled": false
   },
   "outputs": [
    {
     "name": "stdout",
     "output_type": "stream",
     "text": [
      "              Open    High     Low   Close      Volume  Ex-Dividend  \\\n",
      "Date                                                                  \n",
      "2004-08-19  100.00  104.06   95.96  100.34  44659000.0          0.0   \n",
      "2004-08-20  101.01  109.08  100.50  108.31  22834300.0          0.0   \n",
      "2004-08-23  110.75  113.48  109.05  109.40  18256100.0          0.0   \n",
      "2004-08-24  111.24  111.60  103.57  104.87  15247300.0          0.0   \n",
      "2004-08-25  104.96  108.00  103.88  106.00   9188600.0          0.0   \n",
      "\n",
      "            Split Ratio  Adj. Open  Adj. High  Adj. Low  Adj. Close  \\\n",
      "Date                                                                  \n",
      "2004-08-19          1.0     50.000      52.03    47.980      50.170   \n",
      "2004-08-20          1.0     50.505      54.54    50.250      54.155   \n",
      "2004-08-23          1.0     55.375      56.74    54.525      54.700   \n",
      "2004-08-24          1.0     55.620      55.80    51.785      52.435   \n",
      "2004-08-25          1.0     52.480      54.00    51.940      53.000   \n",
      "\n",
      "            Adj. Volume  \n",
      "Date                     \n",
      "2004-08-19   44659000.0  \n",
      "2004-08-20   22834300.0  \n",
      "2004-08-23   18256100.0  \n",
      "2004-08-24   15247300.0  \n",
      "2004-08-25    9188600.0  \n"
     ]
    }
   ],
   "source": [
    "df = quandl.get('WIKI/GOOGL')\n",
    "print df.head()"
   ]
  },
  {
   "cell_type": "code",
   "execution_count": 3,
   "metadata": {
    "collapsed": false
   },
   "outputs": [
    {
     "name": "stdout",
     "output_type": "stream",
     "text": [
      "            Adj. Close    HL_PCT  PCT_change  Adj. Volume\n",
      "Date                                                     \n",
      "2004-08-19      50.170  3.707395    0.340000   44659000.0\n",
      "2004-08-20      54.155  0.710922    7.227007   22834300.0\n",
      "2004-08-23      54.700  3.729433   -1.218962   18256100.0\n",
      "2004-08-24      52.435  6.417469   -5.726357   15247300.0\n",
      "2004-08-25      53.000  1.886792    0.990854    9188600.0\n"
     ]
    }
   ],
   "source": [
    "# create 2 new columns: High/Low Percent, and Percent_change\n",
    "df['HL_PCT'] = (df['Adj. High'] - df['Adj. Close']) / df['Adj. Close'] * 100\n",
    "df['PCT_change'] = (df['Adj. Close'] - df['Adj. Open']) / df['Adj. Open'] * 100\n",
    "\n",
    "# we are only interested in keeping these 4 columns:\n",
    "df = df[['Adj. Close','HL_PCT','PCT_change','Adj. Volume']]\n",
    "\n",
    "print df.head()"
   ]
  },
  {
   "cell_type": "code",
   "execution_count": null,
   "metadata": {
    "collapsed": true
   },
   "outputs": [],
   "source": []
  }
 ],
 "metadata": {
  "kernelspec": {
   "display_name": "Python 2",
   "language": "python",
   "name": "python2"
  },
  "language_info": {
   "codemirror_mode": {
    "name": "ipython",
    "version": 2
   },
   "file_extension": ".py",
   "mimetype": "text/x-python",
   "name": "python",
   "nbconvert_exporter": "python",
   "pygments_lexer": "ipython2",
   "version": "2.7.11"
  }
 },
 "nbformat": 4,
 "nbformat_minor": 0
}
